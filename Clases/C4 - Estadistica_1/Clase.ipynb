{
 "cells": [
  {
   "cell_type": "code",
   "execution_count": 1,
   "id": "c4c4f58d-1a61-4a71-baa1-1dc62e27a432",
   "metadata": {},
   "outputs": [],
   "source": [
    "import numpy as np"
   ]
  },
  {
   "cell_type": "code",
   "execution_count": 7,
   "id": "ad084746-b7a4-4396-90ba-1c58573aac8d",
   "metadata": {},
   "outputs": [
    {
     "ename": "ValueError",
     "evalue": "invalid literal for int() with base 10: '\"134\"'",
     "output_type": "error",
     "traceback": [
      "\u001b[1;31m---------------------------------------------------------------------------\u001b[0m",
      "\u001b[1;31mValueError\u001b[0m                                Traceback (most recent call last)",
      "Input \u001b[1;32mIn [7]\u001b[0m, in \u001b[0;36m<cell line: 5>\u001b[1;34m()\u001b[0m\n\u001b[0;32m      2\u001b[0m data_cruda \u001b[38;5;241m=\u001b[39m np\u001b[38;5;241m.\u001b[39mgenfromtxt(filename, delimiter\u001b[38;5;241m=\u001b[39m\u001b[38;5;124m\"\u001b[39m\u001b[38;5;124m,\u001b[39m\u001b[38;5;124m\"\u001b[39m, dtype\u001b[38;5;241m=\u001b[39m\u001b[38;5;28mstr\u001b[39m) \u001b[38;5;66;03m# Notar que si no ponemos el separador correcto tira error. Y si no ponemos dtype lee todo como vacio.\u001b[39;00m\n\u001b[0;32m      3\u001b[0m data_cruda\n\u001b[1;32m----> 5\u001b[0m alturas \u001b[38;5;241m=\u001b[39m \u001b[43mdata_cruda\u001b[49m\u001b[43m[\u001b[49m\u001b[38;5;241;43m1\u001b[39;49m\u001b[43m:\u001b[49m\u001b[43m,\u001b[49m\u001b[38;5;241;43m1\u001b[39;49m\u001b[43m]\u001b[49m\u001b[38;5;241;43m.\u001b[39;49m\u001b[43mastype\u001b[49m\u001b[43m(\u001b[49m\u001b[38;5;28;43mint\u001b[39;49m\u001b[43m)\u001b[49m\n",
      "\u001b[1;31mValueError\u001b[0m: invalid literal for int() with base 10: '\"134\"'"
     ]
    }
   ],
   "source": [
    "filename = \"Formulario C4.csv\"\n",
    "data_cruda = np.genfromtxt(filename, delimiter=\",\", dtype=str) # Notar que si no ponemos el separador correcto tira error. Y si no ponemos dtype lee todo como vacio.\n",
    "data_cruda\n",
    "\n",
    "alturas = data_cruda[1:,1].astype(int) # Seleccionamos la columna 1 desde la fila uno hasta el final\n",
    "#print (alturas)\n",
    "\n",
    "#pesos = data_cruda[1:,2].astype(int) # Seleccionamos la columna 1 desde la fila uno hasta el final\n",
    "#print (pesos)"
   ]
  }
 ],
 "metadata": {
  "kernelspec": {
   "display_name": "Python 3 (ipykernel)",
   "language": "python",
   "name": "python3"
  },
  "language_info": {
   "codemirror_mode": {
    "name": "ipython",
    "version": 3
   },
   "file_extension": ".py",
   "mimetype": "text/x-python",
   "name": "python",
   "nbconvert_exporter": "python",
   "pygments_lexer": "ipython3",
   "version": "3.9.12"
  }
 },
 "nbformat": 4,
 "nbformat_minor": 5
}
